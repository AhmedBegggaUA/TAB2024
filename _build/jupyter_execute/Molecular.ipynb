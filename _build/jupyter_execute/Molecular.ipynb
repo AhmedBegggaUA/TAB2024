{
 "cells": [
  {
   "cell_type": "code",
   "execution_count": 1,
   "id": "4d2924c8-049e-468c-819a-443693d5c801",
   "metadata": {},
   "outputs": [
    {
     "data": {
      "text/html": [
       "        <script type=\"text/javascript\">\n",
       "        window.PlotlyConfig = {MathJaxConfig: 'local'};\n",
       "        if (window.MathJax && window.MathJax.Hub && window.MathJax.Hub.Config) {window.MathJax.Hub.Config({SVG: {font: \"STIX-Web\"}});}\n",
       "        if (typeof require !== 'undefined') {\n",
       "        require.undef(\"plotly\");\n",
       "        requirejs.config({\n",
       "            paths: {\n",
       "                'plotly': ['https://cdn.plot.ly/plotly-2.35.2.min']\n",
       "            }\n",
       "        });\n",
       "        require(['plotly'], function(Plotly) {\n",
       "            window._Plotly = Plotly;\n",
       "        });\n",
       "        }\n",
       "        </script>\n",
       "        "
      ]
     },
     "metadata": {},
     "output_type": "display_data"
    },
    {
     "ename": "NameError",
     "evalue": "name 'PATH' is not defined",
     "output_type": "error",
     "traceback": [
      "\u001b[0;31m---------------------------------------------------------------------------\u001b[0m",
      "\u001b[0;31mNameError\u001b[0m                                 Traceback (most recent call last)",
      "Cell \u001b[0;32mIn[1], line 9\u001b[0m\n\u001b[1;32m      6\u001b[0m \u001b[38;5;66;03m# initiate the Plotly notebook mode\u001b[39;00m\n\u001b[1;32m      7\u001b[0m init_notebook_mode(connected\u001b[38;5;241m=\u001b[39m\u001b[38;5;28;01mTrue\u001b[39;00m)\n\u001b[0;32m----> 9\u001b[0m structures \u001b[38;5;241m=\u001b[39m pd\u001b[38;5;241m.\u001b[39mread_csv(\u001b[43mPATH\u001b[49m \u001b[38;5;241m+\u001b[39m \u001b[38;5;124m'\u001b[39m\u001b[38;5;124mstructures.csv\u001b[39m\u001b[38;5;124m'\u001b[39m)\n\u001b[1;32m     10\u001b[0m mol_names \u001b[38;5;241m=\u001b[39m structures\u001b[38;5;241m.\u001b[39mmolecule_name\u001b[38;5;241m.\u001b[39munique()\n",
      "\u001b[0;31mNameError\u001b[0m: name 'PATH' is not defined"
     ]
    }
   ],
   "source": [
    "from xyz2graph import MolGraph, to_networkx_graph, to_plotly_figure\n",
    "from plotly.offline import init_notebook_mode, iplot\n",
    "import networkx as nx\n",
    "import pandas as pd\n",
    "\n",
    "# initiate the Plotly notebook mode\n",
    "init_notebook_mode(connected=True)\n",
    "\n",
    "structures = pd.read_csv(PATH + 'structures.csv')\n",
    "mol_names = structures.molecule_name.unique()"
   ]
  },
  {
   "cell_type": "code",
   "execution_count": null,
   "id": "f3670820-65c5-4a1d-bb0c-cb65ec8d0956",
   "metadata": {},
   "outputs": [],
   "source": [
    "def draw_random_mol():\n",
    "    \"\"\"Draws a random molecule\"\"\"\n",
    "    mol_name = random.choice(mol_names)\n",
    "    # Create the MolGraph object\n",
    "    mg = MolGraph()\n",
    "    # Read the data from the .xyz file\n",
    "    mg.read_xyz(f'{PATH}structures/{mol_name}.xyz')\n",
    "    # Create the Plotly figure\n",
    "    fig = to_plotly_figure(mg)\n",
    "    iplot(fig)\n",
    "\n",
    "def draw_random_networx_graph():\n",
    "    \"\"\"Draws the NetworkX graph of a random molecule\"\"\"\n",
    "    mol_name = random.choice(mol_names)\n",
    "    # Create the MolGraph object\n",
    "    mg = MolGraph()\n",
    "    # Read the data from the .xyz file\n",
    "    mg.read_xyz(f'{PATH}structures/{mol_name}.xyz')\n",
    "    # Create the NetworkX figure\n",
    "    G = to_networkx_graph(mg)\n",
    "    nodes = list(G.nodes(data=True))\n",
    "    print('Nodes:')\n",
    "    print(nodes[:5])\n",
    "    edges = list(G.edges(data=True))\n",
    "    print('Edges:')\n",
    "    print(print(edges[:5]))\n",
    "    nx.draw(G, with_labels=True)"
   ]
  }
 ],
 "metadata": {
  "kernelspec": {
   "display_name": "Python 3 (ipykernel)",
   "language": "python",
   "name": "python3"
  },
  "language_info": {
   "codemirror_mode": {
    "name": "ipython",
    "version": 3
   },
   "file_extension": ".py",
   "mimetype": "text/x-python",
   "name": "python",
   "nbconvert_exporter": "python",
   "pygments_lexer": "ipython3",
   "version": "3.9.18"
  }
 },
 "nbformat": 4,
 "nbformat_minor": 5
}